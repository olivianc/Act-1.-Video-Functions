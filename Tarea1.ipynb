{
 "cells": [
  {
   "cell_type": "markdown",
   "metadata": {},
   "source": [
    "## TAREA 1"
   ]
  },
  {
   "cell_type": "markdown",
   "metadata": {},
   "source": [
    "Instructions:"
   ]
  },
  {
   "cell_type": "markdown",
   "metadata": {},
   "source": [
    "Record a video using your computer, save it, and then create a video that plays backwards. Finally, merge both videos into a single file"
   ]
  },
  {
   "cell_type": "markdown",
   "metadata": {},
   "source": [
    "Normal Video"
   ]
  },
  {
   "cell_type": "code",
   "execution_count": 1,
   "metadata": {},
   "outputs": [],
   "source": [
    "import cv2\n",
    "\n",
    "cap = cv2.VideoCapture(0)\n",
    "width = int(cap.get(cv2.CAP_PROP_FRAME_WIDTH))\n",
    "height = int(cap.get(cv2.CAP_PROP_FRAME_HEIGHT))\n",
    "writer = cv2.VideoWriter('Tarea.mp4', cv2.VideoWriter_fourcc(*'mp4v'), 20, (width, height))\n",
    "\n",
    "while True:\n",
    "    ret, frame = cap.read()\n",
    "    if cv2.waitKey(1) & 0xFF == ord('q'):\n",
    "        break\n",
    "    writer.write(frame)\n",
    "    cv2.imshow('frame', frame)\n",
    "\n",
    "\n",
    "cap.release()\n",
    "writer.release()\n",
    "cv2.destroyAllWindows()"
   ]
  },
  {
   "cell_type": "markdown",
   "metadata": {},
   "source": [
    "Reversed Video"
   ]
  },
  {
   "cell_type": "code",
   "execution_count": 2,
   "metadata": {},
   "outputs": [],
   "source": [
    "cap_p = cv2.VideoCapture(\"Tarea.mp4\")\n",
    "width = int(cap_p.get(cv2.CAP_PROP_FRAME_WIDTH))\n",
    "height = int(cap_p.get(cv2.CAP_PROP_FRAME_HEIGHT))\n",
    "check, vid = cap_p.read ()\n",
    "frame_list = []\n",
    "\n",
    "\n",
    "while cap_p.isOpened():\n",
    "    ret, frame = cap_p.read()\n",
    "    if not ret:\n",
    "        break\n",
    "    frame_list.append(frame)\n",
    "\n",
    "\n",
    "\n",
    "cap_p.release()\n",
    "\n",
    "\n",
    "while (check == True):\n",
    "    check, vid = cap_p.read()\n",
    "    frame_list.append (vid)\n",
    "frame_list.pop()\n",
    "frame_list.reverse()\n",
    "\n",
    "\n",
    "writer_reverso = cv2.VideoWriter('Tarea_reverso.mp4', cv2.VideoWriter_fourcc(*'mp4v'), 20, (width, height))\n",
    "\n",
    "for frame in frame_list:\n",
    "    cv2.imshow(\"Frame\", frame)\n",
    "    writer_reverso.write(frame)\n",
    "    if cv2.waitKey(1) & 0xFF ==ord ('q'):\n",
    "        break\n",
    "\n",
    "cap_p.release()\n",
    "writer_reverso.release()\n",
    "cv2.destroyAllWindows()"
   ]
  },
  {
   "cell_type": "markdown",
   "metadata": {},
   "source": [
    "Joined Video"
   ]
  },
  {
   "cell_type": "code",
   "execution_count": 3,
   "metadata": {},
   "outputs": [],
   "source": [
    "writer_junto = cv2.VideoWriter('Tarea_junta.mp4', cv2.VideoWriter_fourcc(*'mp4v'), 20, (width, height))\n",
    "frame_list.extend(frame_list[::-1])\n",
    "\n",
    "for frame in frame_list:\n",
    "    writer_junto.write(frame)\n",
    "\n",
    "writer_junto.release()\n",
    "cv2.destroyAllWindows()"
   ]
  }
 ],
 "metadata": {
  "kernelspec": {
   "display_name": "virtualEnv",
   "language": "python",
   "name": "python3"
  },
  "language_info": {
   "codemirror_mode": {
    "name": "ipython",
    "version": 3
   },
   "file_extension": ".py",
   "mimetype": "text/x-python",
   "name": "python",
   "nbconvert_exporter": "python",
   "pygments_lexer": "ipython3",
   "version": "3.12.2"
  }
 },
 "nbformat": 4,
 "nbformat_minor": 2
}
